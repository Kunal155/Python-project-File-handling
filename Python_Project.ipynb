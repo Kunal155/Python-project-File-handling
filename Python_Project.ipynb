{
 "cells": [
  {
   "cell_type": "markdown",
   "metadata": {},
   "source": [
    "# Opening File "
   ]
  },
  {
   "cell_type": "code",
   "execution_count": 399,
   "metadata": {},
   "outputs": [
    {
     "data": {
      "text/plain": [
       "list"
      ]
     },
     "execution_count": 399,
     "metadata": {},
     "output_type": "execute_result"
    }
   ],
   "source": [
    "with open('conv.txt','r') as f:\n",
    "    text=f.readlines()\n",
    "type(text)"
   ]
  },
  {
   "cell_type": "code",
   "execution_count": 400,
   "metadata": {},
   "outputs": [
    {
     "data": {
      "text/plain": [
       "['WILL: Iâ€™ve never seen wildlings do a thing like this. Iâ€™ve never seen a thing like this, not ever in my life.\\n',\n",
       " '\\n',\n",
       " 'WAYMAR ROYCE: How close did you get?\\n',\n",
       " '\\n',\n",
       " 'WILL: Close as any man would.\\n',\n",
       " '\\n',\n",
       " 'GARED: We should head back to the wall.\\n',\n",
       " '\\n',\n",
       " 'ROYCE: Do the dead frighten you?\\n',\n",
       " '\\n']"
      ]
     },
     "execution_count": 400,
     "metadata": {},
     "output_type": "execute_result"
    }
   ],
   "source": [
    "text[0:10]"
   ]
  },
  {
   "cell_type": "markdown",
   "metadata": {},
   "source": [
    "# Removing \\n from script"
   ]
  },
  {
   "cell_type": "code",
   "execution_count": 401,
   "metadata": {},
   "outputs": [],
   "source": [
    "for i in text:       # loop to remove \\n\n",
    "    text.remove('\\n')"
   ]
  },
  {
   "cell_type": "code",
   "execution_count": 402,
   "metadata": {},
   "outputs": [
    {
     "data": {
      "text/plain": [
       "['WILL: Iâ€™ve never seen wildlings do a thing like this. Iâ€™ve never seen a thing like this, not ever in my life.\\n',\n",
       " 'WAYMAR ROYCE: How close did you get?\\n',\n",
       " 'WILL: Close as any man would.\\n',\n",
       " 'GARED: We should head back to the wall.\\n',\n",
       " 'ROYCE: Do the dead frighten you?\\n']"
      ]
     },
     "execution_count": 402,
     "metadata": {},
     "output_type": "execute_result"
    }
   ],
   "source": [
    "text[0:5]  "
   ]
  },
  {
   "cell_type": "markdown",
   "metadata": {},
   "source": [
    "# Counting unique words "
   ]
  },
  {
   "cell_type": "code",
   "execution_count": 403,
   "metadata": {},
   "outputs": [
    {
     "name": "stdout",
     "output_type": "stream",
     "text": [
      "Total Unique Words: 502\n"
     ]
    }
   ],
   "source": [
    "count = 0\n",
    "file = open(\"conv.txt\", \"r\")\n",
    "read_data = file.read()\n",
    "words = set(read_data.split())\n",
    "for word in words:\n",
    "    count += 1\n",
    "print('Total Unique Words:', count)"
   ]
  },
  {
   "cell_type": "markdown",
   "metadata": {},
   "source": [
    "# Coverting List to Dictionary "
   ]
  },
  {
   "cell_type": "code",
   "execution_count": 100,
   "metadata": {},
   "outputs": [
    {
     "name": "stdout",
     "output_type": "stream",
     "text": [
      "dict_keys(['WILL', 'WAYMAR ROYCE', 'GARED', 'ROYCE', 'JON', 'SEPTA MORDANE', 'SANSA', 'NED', 'ROBB', 'CASSEL', 'CATELYN', 'BRAN', 'THEON', 'CERSEI', 'JAIME', 'ROBERT', 'ARYA'])\n"
     ]
    }
   ],
   "source": [
    "a = text        # dict don't allow duplicates keys\n",
    "dict = {}\n",
    "for b in a:\n",
    "    i = b.split(':')\n",
    "    dict[i[0]] = i[1]\n",
    "Speaker=dict.keys()\n",
    "print(Speaker)"
   ]
  },
  {
   "cell_type": "code",
   "execution_count": 101,
   "metadata": {
    "scrolled": true
   },
   "outputs": [
    {
     "data": {
      "text/plain": [
       "['ARYA',\n",
       " 'BRAN',\n",
       " 'CASSEL',\n",
       " 'CATELYN',\n",
       " 'CERSEI',\n",
       " 'GARED',\n",
       " 'JAIME',\n",
       " 'JON',\n",
       " 'NED',\n",
       " 'ROBB',\n",
       " 'ROBERT',\n",
       " 'ROYCE',\n",
       " 'SANSA',\n",
       " 'SEPTA MORDANE',\n",
       " 'THEON',\n",
       " 'WAYMAR ROYCE',\n",
       " 'WILL']"
      ]
     },
     "execution_count": 101,
     "metadata": {},
     "output_type": "execute_result"
    }
   ],
   "source": [
    "Speaker=sorted(Speaker)  #coverting to list\n",
    "Speaker                 # sorting to alphabetical"
   ]
  },
  {
   "cell_type": "markdown",
   "metadata": {},
   "source": [
    "# Saving speaker's file"
   ]
  },
  {
   "cell_type": "code",
   "execution_count": 110,
   "metadata": {},
   "outputs": [],
   "source": [
    "with open(\"Speaker's name.txt\",'w') as file:\n",
    "    for line in Speaker:                       #Saving unique characters in new file\n",
    "        file.write(line)\n",
    "        file.write('\\n')"
   ]
  },
  {
   "cell_type": "code",
   "execution_count": 422,
   "metadata": {},
   "outputs": [
    {
     "data": {
      "text/plain": [
       "['ARYA: Arya.\\n',\n",
       " 'ARYA: Thatâ€™s Jaime Lannister. The queenâ€™s twin brother.\\n',\n",
       " 'ARYA: Whereâ€™s the Imp?\\n',\n",
       " 'BRAN: But heâ€™s coming right now! Down our road!\\n',\n",
       " 'BRAN: I saw the king! Heâ€™s got hundreds of people!\\n',\n",
       " 'BRAN: Is it true he saw the White Walkers?\\n',\n",
       " 'BRAN: Jon said he was a deserter.\\n',\n",
       " 'BRAN: NO!\\n',\n",
       " 'BRAN: Our way is the old way?\\n',\n",
       " 'BRAN: Please, father!\\n',\n",
       " 'BRAN: So he was lying?\\n',\n",
       " 'BRAN: What about you?\\n',\n",
       " 'BRAN: Where will they go? Their motherâ€™s dead.\\n',\n",
       " 'CASSEL: Lord Stark. My lady. A guardsman just rode in from the hills. Theyâ€™ve captured a deserter from the Nightâ€™s Watch.\\n',\n",
       " 'CASSEL: The law is law, my lady.\\n',\n",
       " 'CASSEL: They donâ€™t belong down here.\\n',\n",
       " 'CATELYN: All these years and I still feel like an outsider when I come here.\\n',\n",
       " 'CATELYN: Do you have to?\\n',\n",
       " 'CATELYN: Gods, but they grow fast.\\n',\n",
       " 'CATELYN: How many times have I told you No climbing!\\n',\n",
       " 'CATELYN: I am so sorry, my love.\\n',\n",
       " 'CATELYN: I want you to promise me. No more climbing.\\n',\n",
       " 'CATELYN: I wonder if the old gods agree.\\n',\n",
       " 'CATELYN: My queen.\\n',\n",
       " 'CATELYN: Ned. Ten is too young to see such things.\\n',\n",
       " 'CATELYN: Your Grace.\\n',\n",
       " 'CERSEI: My husband.\\n',\n",
       " 'CERSEI: Weâ€™ve been riding for a month, my love. Surely the dead can wait.\\n',\n",
       " 'CERSEI: What if Jon Arryn told someone?\\n',\n",
       " 'CERSEI: Where is our brother? Go find the little beast.\\n',\n",
       " 'CERSEI: You should be the Hand of the king.\\n',\n",
       " 'GARED: Our orders were to track the wildlings. We tracked them. They wonâ€™t trouble us no more.\\n',\n",
       " 'GARED: See where they went.\\n',\n",
       " 'GARED: We should head back to the wall.\\n',\n",
       " 'JAIME: But who would he tell?\\n',\n",
       " 'JAIME: If he told the king, both our heads would be skewered on the city gates by now. Whatever Jon Arryn knew or didnâ€™t know, it died with him. And Robert will choose a new Hand of the king, someone to do his job while heâ€™s off fucking boars and hunting whores. Or is it the other way around? And life will go on.\\n',\n",
       " 'JAIME: Thatâ€™s an honor I can do without. Their days are too long, their lives are too short.\\n',\n",
       " 'JON: And your mother.\\n',\n",
       " 'JON: Donâ€™t think too much, Bran.\\n',\n",
       " 'JON: Father will know if you do.\\n',\n",
       " 'JON: Go on. Fatherâ€™s watching.\\n',\n",
       " 'JON: Iâ€™m not a Stark. Get on.\\n',\n",
       " 'JON: Lord Stark? There are five pups. One for each of the Stark children. The direwolf is the sigil of your House. They were meant to have them.\\n',\n",
       " 'JON: Now there are five.\\n',\n",
       " 'JON: What is it?\\n',\n",
       " 'JON: You did well.\\n',\n",
       " 'JON: You want to hold it?\\n',\n",
       " 'NED: A madman sees what he sees.\\n',\n",
       " 'NED: And which one of you was a marksman at ten? Keep practicing, Bran. Go on.\\n',\n",
       " 'NED: Aye.\\n',\n",
       " 'NED: Better a quick death. They wonâ€™t last without their mother.\\n',\n",
       " 'NED: But do you understand why I had to kill him?\\n',\n",
       " 'NED: Get the lads to saddle their horses.\\n',\n",
       " 'NED: Guarding the North for you, Your Grace. Winterfell is yours.\\n',\n",
       " 'NED: He swore an oath, Cat.\\n',\n",
       " 'NED: He wonâ€™t be a boy forever. And winter is coming.\\n',\n",
       " 'NED: Itâ€™s a direwolf.\\n',\n",
       " 'NED: Itâ€™s your gods with all the rules.\\n',\n",
       " 'NED: Iâ€™m sorry, Bran.\\n',\n",
       " 'NED: King of the Andals and the First Men â€¦\\n',\n",
       " 'NED: Lord of the Seven Kingdoms and protector of the realm, I, Eddard of the House Stark, Lord of Winterfell and Warden of the North, sentence you to die.\\n',\n",
       " 'NED: My queen.\\n',\n",
       " 'NED: Tell Bran heâ€™s coming, too.\\n',\n",
       " 'NED: Tell me about Jon Arryn.\\n',\n",
       " 'NED: Tell me.\\n',\n",
       " 'NED: The White Walkers have been gone for thousands of years.\\n',\n",
       " 'NED: The man who passes the sentence should swing the sword.\\n',\n",
       " 'NED: There are no mountain lions in these woods.\\n',\n",
       " 'NED: Tough old beast.\\n',\n",
       " 'NED: We both did.\\n',\n",
       " 'NED: You have five northern children. Youâ€™re not an outsider.\\n',\n",
       " 'NED: You understand why I did it?\\n',\n",
       " 'NED: You will train them yourselves. You will feed them yourselves. And if they die, you will bury them yourselves.\\n',\n",
       " 'NED: Your Grace.\\n',\n",
       " 'ROBB: Go on, Tommy, shave him good. Heâ€™s never met a girl he likes better than his own hair.\\n',\n",
       " 'ROBB: I hear the prince is a right royal prick.\\n',\n",
       " 'ROBB: Lad, go run back and get the rest.\\n',\n",
       " 'ROBB: Put away your blade.\\n',\n",
       " 'ROBB: Relax your bow arm.\\n',\n",
       " 'ROBB: There are no direwolves south of the Wall.\\n',\n",
       " 'ROBB: What is it?\\n',\n",
       " 'ROBERT: Cat!\\n',\n",
       " 'ROBERT: He never had to teach you much, but me â€¦ You remember me at 16? All I wanted to do was crack skulls and fuck girls. He showed me what was what.\\n',\n",
       " 'ROBERT: Ned.\\n',\n",
       " 'ROBERT: Nine years. Why havenâ€™t I seen you? Where the hell have you been?\\n',\n",
       " 'ROBERT: One minute he was fine, and then â€¦ Burned right through him, whatever it was. I loved that man.\\n',\n",
       " 'ROBERT: Ooh. Show us your muscles. Youâ€™ll be a soldier.\\n',\n",
       " 'ROBERT: Take me to your crypt. I want to pay my respects.\\n',\n",
       " 'ROBERT: Who have we here? You must be Robb.\\n',\n",
       " 'ROBERT: Youâ€™ve got fat.\\n',\n",
       " 'ROYCE: Do the dead frighten you?\\n',\n",
       " 'ROYCE: Itâ€™s a good thing weâ€™re not children. You want to run away south, run away. Of course, they will behead you as a deserter â€¦ If I donâ€™t catch you first. Get back on your horse. I wonâ€™t say it again.\\n',\n",
       " 'ROYCE: What is it?\\n',\n",
       " 'ROYCE: You donâ€™t think heâ€™ll ask us how they died? Get back on your horse.\\n',\n",
       " 'ROYCE: Your dead men seem to have moved camp.\\n',\n",
       " 'SANSA: Thank you.\\n',\n",
       " 'SANSA: Will you shut up?\\n',\n",
       " 'SANSA: Would you please shut up.\\n',\n",
       " 'SEPTA MORDANE: Fine work, as always. Well done.\\n',\n",
       " 'SEPTA MORDANE: I love the detail that youâ€™ve managed to get in this corners.\\n',\n",
       " 'THEON: I take orders from your father, not you.\\n',\n",
       " 'THEON: Itâ€™s a freak.\\n',\n",
       " 'THEON: Mountain lion?\\n',\n",
       " 'THEON: Right. Give it here.\\n',\n",
       " 'THEON: Think of all those southern girls he gets to stab with his right royal prick.\\n',\n",
       " 'WAYMAR ROYCE: How close did you get?\\n',\n",
       " 'WILL: Close as any man would.\\n',\n",
       " 'WILL: Iâ€™ve never seen wildlings do a thing like this. Iâ€™ve never seen a thing like this, not ever in my life.\\n',\n",
       " 'WILL: They were here.\\n',\n",
       " 'WILL: Whatever did it to them could do it to us. They even killed the children.\\n']"
      ]
     },
     "execution_count": 422,
     "metadata": {},
     "output_type": "execute_result"
    }
   ],
   "source": [
    "speech=set(text)     #converting to set to remove duplicate dialogues \n",
    "speech=sorted(speech) # coverting and sorting \n",
    "speech         "
   ]
  },
  {
   "cell_type": "markdown",
   "metadata": {},
   "source": [
    "# Creating Function to extract unique words "
   ]
  },
  {
   "cell_type": "code",
   "execution_count": 430,
   "metadata": {},
   "outputs": [],
   "source": [
    "def character(s):\n",
    "    Char=''.join(str(e) for e in s )        #converting to string\n",
    "    char=Char.lower()           #lowering the case and removing addition characters\n",
    "    words=char.split()\n",
    "    words=[word.strip('.,\"?!:;()[]') for word in words]\n",
    "    words=[word.replace(\"\\'s\",\"\") for word in words]\n",
    "    unique=[]\n",
    "    for word in words:                  #creating empty list and storing unique words \n",
    "        if word not in unique:          # returning new list\n",
    "            unique.append(word)                          \n",
    "    unique.sort()\n",
    "    return unique\n"
   ]
  },
  {
   "cell_type": "markdown",
   "metadata": {},
   "source": [
    "# Unique words spoken by Arya"
   ]
  },
  {
   "cell_type": "code",
   "execution_count": 431,
   "metadata": {},
   "outputs": [
    {
     "data": {
      "text/plain": [
       "['arya',\n",
       " 'brother',\n",
       " 'imp',\n",
       " 'jaime',\n",
       " 'lannister',\n",
       " 'queenâ€™s',\n",
       " 'thatâ€™s',\n",
       " 'the',\n",
       " 'twin',\n",
       " 'whereâ€™s']"
      ]
     },
     "execution_count": 431,
     "metadata": {},
     "output_type": "execute_result"
    }
   ],
   "source": [
    "Arya=speech[0:3]     #slicing as per range as we can see in speech                     \n",
    "Arya_file=character(Arya)  #variable name is a character name \n",
    "Arya_file            #calling function and passing argument "
   ]
  },
  {
   "cell_type": "code",
   "execution_count": 308,
   "metadata": {},
   "outputs": [],
   "source": [
    "with open(\"Arya'C1.txt\",'w') as file:    #saveing the content in new file\n",
    "    for line in Arya_file:\n",
    "        file.write(line)\n",
    "        file.write('\\n')"
   ]
  },
  {
   "cell_type": "markdown",
   "metadata": {},
   "source": [
    "# Unique words spoken by Bran"
   ]
  },
  {
   "cell_type": "code",
   "execution_count": 432,
   "metadata": {},
   "outputs": [
    {
     "data": {
      "text/plain": [
       "['a',\n",
       " 'about',\n",
       " 'bran',\n",
       " 'but',\n",
       " 'coming',\n",
       " 'dead',\n",
       " 'deserter',\n",
       " 'down',\n",
       " 'father',\n",
       " 'go',\n",
       " 'got',\n",
       " 'he',\n",
       " 'heâ€™s',\n",
       " 'hundreds',\n",
       " 'i',\n",
       " 'is',\n",
       " 'it',\n",
       " 'jon',\n",
       " 'king',\n",
       " 'lying',\n",
       " 'motherâ€™s',\n",
       " 'no',\n",
       " 'now',\n",
       " 'of',\n",
       " 'old',\n",
       " 'our',\n",
       " 'people',\n",
       " 'please',\n",
       " 'right',\n",
       " 'road',\n",
       " 'said',\n",
       " 'saw',\n",
       " 'so',\n",
       " 'the',\n",
       " 'their',\n",
       " 'they',\n",
       " 'true',\n",
       " 'walkers',\n",
       " 'was',\n",
       " 'way',\n",
       " 'what',\n",
       " 'where',\n",
       " 'white',\n",
       " 'will',\n",
       " 'you']"
      ]
     },
     "execution_count": 432,
     "metadata": {},
     "output_type": "execute_result"
    }
   ],
   "source": [
    "Bran=speech[3:13]   #slicing from 3 to 12 index all Bran's dialogues\n",
    "Bran_file=character(Bran)  #variable name is a character name     \n",
    "Bran_file               #calling function and passing argument "
   ]
  },
  {
   "cell_type": "code",
   "execution_count": 312,
   "metadata": {},
   "outputs": [],
   "source": [
    "with open(\"Bran'C2.txt\",'w') as file:    #saveing the content in new file\n",
    "    for line in Bran_file:\n",
    "        file.write(line)\n",
    "        file.write('\\n')"
   ]
  },
  {
   "cell_type": "markdown",
   "metadata": {},
   "source": [
    "# Unique words spoken by CASSEL"
   ]
  },
  {
   "cell_type": "code",
   "execution_count": 433,
   "metadata": {},
   "outputs": [
    {
     "data": {
      "text/plain": [
       "['a',\n",
       " 'belong',\n",
       " 'captured',\n",
       " 'cassel',\n",
       " 'deserter',\n",
       " 'donâ€™t',\n",
       " 'down',\n",
       " 'from',\n",
       " 'guardsman',\n",
       " 'here',\n",
       " 'hills',\n",
       " 'in',\n",
       " 'is',\n",
       " 'just',\n",
       " 'lady',\n",
       " 'law',\n",
       " 'lord',\n",
       " 'my',\n",
       " 'nightâ€™s',\n",
       " 'rode',\n",
       " 'stark',\n",
       " 'the',\n",
       " 'they',\n",
       " 'theyâ€™ve',\n",
       " 'watch']"
      ]
     },
     "execution_count": 433,
     "metadata": {},
     "output_type": "execute_result"
    }
   ],
   "source": [
    "Cassel=speech[13:16]\n",
    "Cassel_file=character(cassel)\n",
    "Cassel_file"
   ]
  },
  {
   "cell_type": "code",
   "execution_count": 314,
   "metadata": {},
   "outputs": [],
   "source": [
    "with open(\"Cassel'C3.txt\",'w') as file:\n",
    "    for line in Cassel_file:\n",
    "        file.write(line)\n",
    "        file.write('\\n')"
   ]
  },
  {
   "cell_type": "markdown",
   "metadata": {},
   "source": [
    "# Unique words spoken by CATELYN"
   ]
  },
  {
   "cell_type": "code",
   "execution_count": 405,
   "metadata": {},
   "outputs": [
    {
     "data": {
      "text/plain": [
       "['agree',\n",
       " 'all',\n",
       " 'am',\n",
       " 'an',\n",
       " 'and',\n",
       " 'but',\n",
       " 'catelyn',\n",
       " 'climbing',\n",
       " 'come',\n",
       " 'do',\n",
       " 'fast',\n",
       " 'feel',\n",
       " 'gods',\n",
       " 'grace',\n",
       " 'grow',\n",
       " 'have',\n",
       " 'here',\n",
       " 'how',\n",
       " 'i',\n",
       " 'if',\n",
       " 'is',\n",
       " 'like',\n",
       " 'love',\n",
       " 'many',\n",
       " 'me',\n",
       " 'more',\n",
       " 'my',\n",
       " 'ned',\n",
       " 'no',\n",
       " 'old',\n",
       " 'outsider',\n",
       " 'promise',\n",
       " 'queen',\n",
       " 'see',\n",
       " 'so',\n",
       " 'sorry',\n",
       " 'still',\n",
       " 'such',\n",
       " 'ten',\n",
       " 'the',\n",
       " 'these',\n",
       " 'they',\n",
       " 'things',\n",
       " 'times',\n",
       " 'to',\n",
       " 'told',\n",
       " 'too',\n",
       " 'want',\n",
       " 'when',\n",
       " 'wonder',\n",
       " 'years',\n",
       " 'you',\n",
       " 'young',\n",
       " 'your']"
      ]
     },
     "execution_count": 405,
     "metadata": {},
     "output_type": "execute_result"
    }
   ],
   "source": [
    "Catelyn=speech[16:26]\n",
    "Catelyn_file=character(Catelyn)\n",
    "Catelyn_file"
   ]
  },
  {
   "cell_type": "code",
   "execution_count": 317,
   "metadata": {},
   "outputs": [],
   "source": [
    "with open(\"Catelyn'C4.txt\",'w') as file:\n",
    "    for line in Catelyn_file:\n",
    "        file.write(line)\n",
    "        file.write('\\n')"
   ]
  },
  {
   "cell_type": "markdown",
   "metadata": {},
   "source": [
    "# Unique word spoken by CERSEI"
   ]
  },
  {
   "cell_type": "code",
   "execution_count": 406,
   "metadata": {},
   "outputs": [
    {
     "data": {
      "text/plain": [
       "['a',\n",
       " 'arryn',\n",
       " 'be',\n",
       " 'beast',\n",
       " 'been',\n",
       " 'brother',\n",
       " 'can',\n",
       " 'cersei',\n",
       " 'dead',\n",
       " 'find',\n",
       " 'for',\n",
       " 'go',\n",
       " 'hand',\n",
       " 'husband',\n",
       " 'if',\n",
       " 'is',\n",
       " 'jon',\n",
       " 'king',\n",
       " 'little',\n",
       " 'love',\n",
       " 'month',\n",
       " 'my',\n",
       " 'of',\n",
       " 'our',\n",
       " 'riding',\n",
       " 'should',\n",
       " 'someone',\n",
       " 'surely',\n",
       " 'the',\n",
       " 'told',\n",
       " 'wait',\n",
       " 'weâ€™ve',\n",
       " 'what',\n",
       " 'where',\n",
       " 'you']"
      ]
     },
     "execution_count": 406,
     "metadata": {},
     "output_type": "execute_result"
    }
   ],
   "source": [
    "Cersei=speech[26:31]\n",
    "Cersei_file=character(Cersei)\n",
    "Cersei_file"
   ]
  },
  {
   "cell_type": "code",
   "execution_count": 319,
   "metadata": {},
   "outputs": [],
   "source": [
    "with open(\"Cersei'C5.txt\",'w') as file:\n",
    "    for line in Cersei_file:\n",
    "        file.write(line)\n",
    "        file.write('\\n')"
   ]
  },
  {
   "cell_type": "markdown",
   "metadata": {},
   "source": [
    "# Unique word spoken by GARED"
   ]
  },
  {
   "cell_type": "code",
   "execution_count": 407,
   "metadata": {},
   "outputs": [
    {
     "data": {
      "text/plain": [
       "['back',\n",
       " 'gared',\n",
       " 'head',\n",
       " 'more',\n",
       " 'no',\n",
       " 'orders',\n",
       " 'our',\n",
       " 'see',\n",
       " 'should',\n",
       " 'the',\n",
       " 'them',\n",
       " 'they',\n",
       " 'to',\n",
       " 'track',\n",
       " 'tracked',\n",
       " 'trouble',\n",
       " 'us',\n",
       " 'wall',\n",
       " 'we',\n",
       " 'went',\n",
       " 'were',\n",
       " 'where',\n",
       " 'wildlings',\n",
       " 'wonâ€™t']"
      ]
     },
     "execution_count": 407,
     "metadata": {},
     "output_type": "execute_result"
    }
   ],
   "source": [
    "Gared=speech[31:34]\n",
    "Gared_file=character(Gared)\n",
    "Gared_file"
   ]
  },
  {
   "cell_type": "code",
   "execution_count": 325,
   "metadata": {},
   "outputs": [],
   "source": [
    "with open(\"Gared'C6.txt\",'w') as file:\n",
    "    for line in Gared_file:\n",
    "        file.write(line)\n",
    "        file.write('\\n')"
   ]
  },
  {
   "cell_type": "markdown",
   "metadata": {},
   "source": [
    "# Unique word spoken by Jaime"
   ]
  },
  {
   "cell_type": "code",
   "execution_count": 408,
   "metadata": {},
   "outputs": [
    {
     "data": {
      "text/plain": [
       "['a',\n",
       " 'an',\n",
       " 'and',\n",
       " 'are',\n",
       " 'around',\n",
       " 'arryn',\n",
       " 'be',\n",
       " 'boars',\n",
       " 'both',\n",
       " 'but',\n",
       " 'by',\n",
       " 'can',\n",
       " 'choose',\n",
       " 'city',\n",
       " 'days',\n",
       " 'didnâ€™t',\n",
       " 'died',\n",
       " 'do',\n",
       " 'fucking',\n",
       " 'gates',\n",
       " 'go',\n",
       " 'hand',\n",
       " 'he',\n",
       " 'heads',\n",
       " 'heâ€™s',\n",
       " 'him',\n",
       " 'his',\n",
       " 'honor',\n",
       " 'hunting',\n",
       " 'i',\n",
       " 'if',\n",
       " 'is',\n",
       " 'it',\n",
       " 'jaime',\n",
       " 'job',\n",
       " 'jon',\n",
       " 'king',\n",
       " 'knew',\n",
       " 'know',\n",
       " 'life',\n",
       " 'lives',\n",
       " 'long',\n",
       " 'new',\n",
       " 'now',\n",
       " 'of',\n",
       " 'off',\n",
       " 'on',\n",
       " 'or',\n",
       " 'other',\n",
       " 'our',\n",
       " 'robert',\n",
       " 'short',\n",
       " 'skewered',\n",
       " 'someone',\n",
       " 'tell',\n",
       " 'thatâ€™s',\n",
       " 'the',\n",
       " 'their',\n",
       " 'to',\n",
       " 'told',\n",
       " 'too',\n",
       " 'way',\n",
       " 'whatever',\n",
       " 'while',\n",
       " 'who',\n",
       " 'whores',\n",
       " 'will',\n",
       " 'with',\n",
       " 'without',\n",
       " 'would']"
      ]
     },
     "execution_count": 408,
     "metadata": {},
     "output_type": "execute_result"
    }
   ],
   "source": [
    "Jaime=speech[34:37]\n",
    "Jaime_file=character(Jaime)\n",
    "Jaime_file"
   ]
  },
  {
   "cell_type": "code",
   "execution_count": 331,
   "metadata": {},
   "outputs": [],
   "source": [
    "with open(\"Jaime'C7.txt\",'w') as file:\n",
    "    for line in Jaime_file:\n",
    "        file.write(line)\n",
    "        file.write('\\n')"
   ]
  },
  {
   "cell_type": "markdown",
   "metadata": {},
   "source": [
    "# Unique word spoken by Jon"
   ]
  },
  {
   "cell_type": "code",
   "execution_count": 409,
   "metadata": {},
   "outputs": [
    {
     "data": {
      "text/plain": [
       "['a',\n",
       " 'and',\n",
       " 'are',\n",
       " 'bran',\n",
       " 'children',\n",
       " 'did',\n",
       " 'direwolf',\n",
       " 'do',\n",
       " 'donâ€™t',\n",
       " 'each',\n",
       " 'father',\n",
       " 'fatherâ€™s',\n",
       " 'five',\n",
       " 'for',\n",
       " 'get',\n",
       " 'go',\n",
       " 'have',\n",
       " 'hold',\n",
       " 'house',\n",
       " 'if',\n",
       " 'is',\n",
       " 'it',\n",
       " 'iâ€™m',\n",
       " 'jon',\n",
       " 'know',\n",
       " 'lord',\n",
       " 'meant',\n",
       " 'mother',\n",
       " 'much',\n",
       " 'not',\n",
       " 'now',\n",
       " 'of',\n",
       " 'on',\n",
       " 'one',\n",
       " 'pups',\n",
       " 'sigil',\n",
       " 'stark',\n",
       " 'the',\n",
       " 'them',\n",
       " 'there',\n",
       " 'they',\n",
       " 'think',\n",
       " 'to',\n",
       " 'too',\n",
       " 'want',\n",
       " 'watching',\n",
       " 'well',\n",
       " 'were',\n",
       " 'what',\n",
       " 'will',\n",
       " 'you',\n",
       " 'your']"
      ]
     },
     "execution_count": 409,
     "metadata": {},
     "output_type": "execute_result"
    }
   ],
   "source": [
    "Jon=speech[37:47]\n",
    "Jon_file=character(Jon)\n",
    "Jon_file"
   ]
  },
  {
   "cell_type": "code",
   "execution_count": 335,
   "metadata": {},
   "outputs": [],
   "source": [
    "with open(\"Jon'C8.txt\",'w') as file:\n",
    "    for line in Cersei_file:\n",
    "        file.write(line)\n",
    "        file.write('\\n')"
   ]
  },
  {
   "cell_type": "markdown",
   "metadata": {},
   "source": [
    "# Unique word spoken by NED"
   ]
  },
  {
   "cell_type": "code",
   "execution_count": 410,
   "metadata": {},
   "outputs": [
    {
     "data": {
      "text/plain": [
       "['a',\n",
       " 'about',\n",
       " 'all',\n",
       " 'an',\n",
       " 'and',\n",
       " 'andals',\n",
       " 'are',\n",
       " 'arryn',\n",
       " 'at',\n",
       " 'aye',\n",
       " 'be',\n",
       " 'beast',\n",
       " 'been',\n",
       " 'better',\n",
       " 'both',\n",
       " 'boy',\n",
       " 'bran',\n",
       " 'bury',\n",
       " 'but',\n",
       " 'cat',\n",
       " 'children',\n",
       " 'coming',\n",
       " 'death',\n",
       " 'did',\n",
       " 'die',\n",
       " 'direwolf',\n",
       " 'do',\n",
       " 'eddard',\n",
       " 'feed',\n",
       " 'first',\n",
       " 'five',\n",
       " 'for',\n",
       " 'forever',\n",
       " 'get',\n",
       " 'go',\n",
       " 'gods',\n",
       " 'gone',\n",
       " 'grace',\n",
       " 'guarding',\n",
       " 'had',\n",
       " 'have',\n",
       " 'he',\n",
       " 'heâ€™s',\n",
       " 'him',\n",
       " 'horses',\n",
       " 'house',\n",
       " 'i',\n",
       " 'if',\n",
       " 'in',\n",
       " 'is',\n",
       " 'it',\n",
       " 'itâ€™s',\n",
       " 'iâ€™m',\n",
       " 'jon',\n",
       " 'keep',\n",
       " 'kill',\n",
       " 'king',\n",
       " 'kingdoms',\n",
       " 'lads',\n",
       " 'last',\n",
       " 'lions',\n",
       " 'lord',\n",
       " 'madman',\n",
       " 'man',\n",
       " 'marksman',\n",
       " 'me',\n",
       " 'men',\n",
       " 'mother',\n",
       " 'mountain',\n",
       " 'my',\n",
       " 'ned',\n",
       " 'no',\n",
       " 'north',\n",
       " 'northern',\n",
       " 'not',\n",
       " 'oath',\n",
       " 'of',\n",
       " 'old',\n",
       " 'on',\n",
       " 'one',\n",
       " 'outsider',\n",
       " 'passes',\n",
       " 'practicing',\n",
       " 'protector',\n",
       " 'queen',\n",
       " 'quick',\n",
       " 'realm',\n",
       " 'rules',\n",
       " 'saddle',\n",
       " 'sees',\n",
       " 'sentence',\n",
       " 'seven',\n",
       " 'should',\n",
       " 'sorry',\n",
       " 'stark',\n",
       " 'swing',\n",
       " 'sword',\n",
       " 'swore',\n",
       " 'tell',\n",
       " 'ten',\n",
       " 'the',\n",
       " 'their',\n",
       " 'them',\n",
       " 'there',\n",
       " 'these',\n",
       " 'they',\n",
       " 'thousands',\n",
       " 'to',\n",
       " 'too',\n",
       " 'tough',\n",
       " 'train',\n",
       " 'understand',\n",
       " 'walkers',\n",
       " 'warden',\n",
       " 'was',\n",
       " 'we',\n",
       " 'what',\n",
       " 'which',\n",
       " 'white',\n",
       " 'who',\n",
       " 'why',\n",
       " 'will',\n",
       " 'winter',\n",
       " 'winterfell',\n",
       " 'with',\n",
       " 'without',\n",
       " 'wonâ€™t',\n",
       " 'woods',\n",
       " 'years',\n",
       " 'you',\n",
       " 'your',\n",
       " 'yours',\n",
       " 'yourselves',\n",
       " 'youâ€™re',\n",
       " 'â€¦']"
      ]
     },
     "execution_count": 410,
     "metadata": {},
     "output_type": "execute_result"
    }
   ],
   "source": [
    "Ned=speech[47:74]\n",
    "Ned_file=character(Ned)\n",
    "Ned_file"
   ]
  },
  {
   "cell_type": "code",
   "execution_count": 342,
   "metadata": {},
   "outputs": [],
   "source": [
    "with open(\"Ned'C9.txt\",'w') as file:\n",
    "    for line in Ned_file:\n",
    "        file.write(line)\n",
    "        file.write('\\n')"
   ]
  },
  {
   "cell_type": "markdown",
   "metadata": {},
   "source": [
    "# Unique word spoken by ROBB"
   ]
  },
  {
   "cell_type": "code",
   "execution_count": 411,
   "metadata": {},
   "outputs": [
    {
     "data": {
      "text/plain": [
       "['a',\n",
       " 'and',\n",
       " 'are',\n",
       " 'arm',\n",
       " 'away',\n",
       " 'back',\n",
       " 'better',\n",
       " 'blade',\n",
       " 'bow',\n",
       " 'direwolves',\n",
       " 'get',\n",
       " 'girl',\n",
       " 'go',\n",
       " 'good',\n",
       " 'hair',\n",
       " 'he',\n",
       " 'hear',\n",
       " 'heâ€™s',\n",
       " 'him',\n",
       " 'his',\n",
       " 'i',\n",
       " 'is',\n",
       " 'it',\n",
       " 'lad',\n",
       " 'likes',\n",
       " 'met',\n",
       " 'never',\n",
       " 'no',\n",
       " 'of',\n",
       " 'on',\n",
       " 'own',\n",
       " 'prick',\n",
       " 'prince',\n",
       " 'put',\n",
       " 'relax',\n",
       " 'rest',\n",
       " 'right',\n",
       " 'robb',\n",
       " 'royal',\n",
       " 'run',\n",
       " 'shave',\n",
       " 'south',\n",
       " 'than',\n",
       " 'the',\n",
       " 'there',\n",
       " 'tommy',\n",
       " 'wall',\n",
       " 'what',\n",
       " 'your']"
      ]
     },
     "execution_count": 411,
     "metadata": {},
     "output_type": "execute_result"
    }
   ],
   "source": [
    "Robb=speech[74:81]\n",
    "Robb_file=character(Robb)\n",
    "Robb_file"
   ]
  },
  {
   "cell_type": "code",
   "execution_count": 349,
   "metadata": {},
   "outputs": [],
   "source": [
    "with open(\"Robb'C10.txt\",'w') as file:\n",
    "    for line in Robb_file:\n",
    "        file.write(line)\n",
    "        file.write('\\n')"
   ]
  },
  {
   "cell_type": "markdown",
   "metadata": {},
   "source": [
    "# Unique word spoken by ROBERT"
   ]
  },
  {
   "cell_type": "code",
   "execution_count": 413,
   "metadata": {},
   "outputs": [
    {
     "data": {
      "text/plain": [
       "['16',\n",
       " 'a',\n",
       " 'all',\n",
       " 'and',\n",
       " 'at',\n",
       " 'be',\n",
       " 'been',\n",
       " 'burned',\n",
       " 'but',\n",
       " 'cat',\n",
       " 'crack',\n",
       " 'crypt',\n",
       " 'do',\n",
       " 'fat',\n",
       " 'fine',\n",
       " 'fuck',\n",
       " 'girls',\n",
       " 'got',\n",
       " 'had',\n",
       " 'have',\n",
       " 'havenâ€™t',\n",
       " 'he',\n",
       " 'hell',\n",
       " 'here',\n",
       " 'him',\n",
       " 'i',\n",
       " 'it',\n",
       " 'loved',\n",
       " 'man',\n",
       " 'me',\n",
       " 'minute',\n",
       " 'much',\n",
       " 'muscles',\n",
       " 'must',\n",
       " 'my',\n",
       " 'ned',\n",
       " 'never',\n",
       " 'nine',\n",
       " 'one',\n",
       " 'ooh',\n",
       " 'pay',\n",
       " 'remember',\n",
       " 'respects',\n",
       " 'right',\n",
       " 'robb',\n",
       " 'robert',\n",
       " 'seen',\n",
       " 'show',\n",
       " 'showed',\n",
       " 'skulls',\n",
       " 'soldier',\n",
       " 'take',\n",
       " 'teach',\n",
       " 'that',\n",
       " 'the',\n",
       " 'then',\n",
       " 'through',\n",
       " 'to',\n",
       " 'us',\n",
       " 'want',\n",
       " 'wanted',\n",
       " 'was',\n",
       " 'we',\n",
       " 'what',\n",
       " 'whatever',\n",
       " 'where',\n",
       " 'who',\n",
       " 'why',\n",
       " 'years',\n",
       " 'you',\n",
       " 'your',\n",
       " 'youâ€™ll',\n",
       " 'youâ€™ve',\n",
       " 'â€¦']"
      ]
     },
     "execution_count": 413,
     "metadata": {},
     "output_type": "execute_result"
    }
   ],
   "source": [
    "Robert=speech[81:90]\n",
    "Robert_file=character(Robert)\n",
    "Robert_file"
   ]
  },
  {
   "cell_type": "code",
   "execution_count": 367,
   "metadata": {},
   "outputs": [],
   "source": [
    "with open(\"Robert'C11.txt\",'w') as file:\n",
    "    for line in Robert_file:\n",
    "        file.write(line)\n",
    "        file.write('\\n')"
   ]
  },
  {
   "cell_type": "markdown",
   "metadata": {},
   "source": [
    "# Unique word spoken by ROYCE"
   ]
  },
  {
   "cell_type": "code",
   "execution_count": 414,
   "metadata": {},
   "outputs": [
    {
     "data": {
      "text/plain": [
       "['a',\n",
       " 'again',\n",
       " 'as',\n",
       " 'ask',\n",
       " 'away',\n",
       " 'back',\n",
       " 'behead',\n",
       " 'camp',\n",
       " 'catch',\n",
       " 'children',\n",
       " 'course',\n",
       " 'dead',\n",
       " 'deserter',\n",
       " 'died',\n",
       " 'do',\n",
       " 'donâ€™t',\n",
       " 'first',\n",
       " 'frighten',\n",
       " 'get',\n",
       " 'good',\n",
       " 'have',\n",
       " 'heâ€™ll',\n",
       " 'horse',\n",
       " 'how',\n",
       " 'i',\n",
       " 'if',\n",
       " 'is',\n",
       " 'it',\n",
       " 'itâ€™s',\n",
       " 'men',\n",
       " 'moved',\n",
       " 'not',\n",
       " 'of',\n",
       " 'on',\n",
       " 'royce',\n",
       " 'run',\n",
       " 'say',\n",
       " 'seem',\n",
       " 'south',\n",
       " 'the',\n",
       " 'they',\n",
       " 'thing',\n",
       " 'think',\n",
       " 'to',\n",
       " 'us',\n",
       " 'want',\n",
       " 'weâ€™re',\n",
       " 'what',\n",
       " 'will',\n",
       " 'wonâ€™t',\n",
       " 'you',\n",
       " 'your',\n",
       " 'â€¦']"
      ]
     },
     "execution_count": 414,
     "metadata": {},
     "output_type": "execute_result"
    }
   ],
   "source": [
    "Royce=speech[90:95]\n",
    "Royce_file=character(Royce)\n",
    "Royce_file"
   ]
  },
  {
   "cell_type": "code",
   "execution_count": 368,
   "metadata": {},
   "outputs": [],
   "source": [
    "with open(\"Royce'C12.txt\",'w') as file:\n",
    "    for line in Royce_file:\n",
    "        file.write(line)\n",
    "        file.write('\\n')"
   ]
  },
  {
   "cell_type": "markdown",
   "metadata": {},
   "source": [
    "# Unique word spoken by SANSA"
   ]
  },
  {
   "cell_type": "code",
   "execution_count": 415,
   "metadata": {},
   "outputs": [
    {
     "data": {
      "text/plain": [
       "['please', 'sansa', 'shut', 'thank', 'up', 'will', 'would', 'you']"
      ]
     },
     "execution_count": 415,
     "metadata": {},
     "output_type": "execute_result"
    }
   ],
   "source": [
    "Sansa=speech[95:98]\n",
    "Sansa_file=character(Sansa)\n",
    "Sansa_file"
   ]
  },
  {
   "cell_type": "code",
   "execution_count": 374,
   "metadata": {},
   "outputs": [],
   "source": [
    "with open(\"Sansa'C13.txt\",'w') as file:\n",
    "    for line in Sansa_file:\n",
    "        file.write(line)\n",
    "        file.write('\\n')"
   ]
  },
  {
   "cell_type": "markdown",
   "metadata": {},
   "source": [
    "# Unique word spoken by SEPTA MORDANE"
   ]
  },
  {
   "cell_type": "code",
   "execution_count": 416,
   "metadata": {},
   "outputs": [
    {
     "data": {
      "text/plain": [
       "['always',\n",
       " 'as',\n",
       " 'corners',\n",
       " 'detail',\n",
       " 'done',\n",
       " 'fine',\n",
       " 'get',\n",
       " 'i',\n",
       " 'in',\n",
       " 'love',\n",
       " 'managed',\n",
       " 'mordane',\n",
       " 'septa',\n",
       " 'that',\n",
       " 'the',\n",
       " 'this',\n",
       " 'to',\n",
       " 'well',\n",
       " 'work',\n",
       " 'youâ€™ve']"
      ]
     },
     "execution_count": 416,
     "metadata": {},
     "output_type": "execute_result"
    }
   ],
   "source": [
    "Septa=speech[98:100]\n",
    "Septa_file=character(Septa)\n",
    "Septa_file"
   ]
  },
  {
   "cell_type": "code",
   "execution_count": 379,
   "metadata": {},
   "outputs": [],
   "source": [
    "with open(\"Septa'C14.txt\",'w') as file:\n",
    "    for line in Septa_file:\n",
    "        file.write(line)\n",
    "        file.write('\\n')"
   ]
  },
  {
   "cell_type": "markdown",
   "metadata": {},
   "source": [
    "# Unique word spoken by THEON"
   ]
  },
  {
   "cell_type": "code",
   "execution_count": 417,
   "metadata": {},
   "outputs": [
    {
     "data": {
      "text/plain": [
       "['a',\n",
       " 'all',\n",
       " 'father',\n",
       " 'freak',\n",
       " 'from',\n",
       " 'gets',\n",
       " 'girls',\n",
       " 'give',\n",
       " 'he',\n",
       " 'here',\n",
       " 'his',\n",
       " 'i',\n",
       " 'it',\n",
       " 'itâ€™s',\n",
       " 'lion',\n",
       " 'mountain',\n",
       " 'not',\n",
       " 'of',\n",
       " 'orders',\n",
       " 'prick',\n",
       " 'right',\n",
       " 'royal',\n",
       " 'southern',\n",
       " 'stab',\n",
       " 'take',\n",
       " 'theon',\n",
       " 'think',\n",
       " 'those',\n",
       " 'to',\n",
       " 'with',\n",
       " 'you',\n",
       " 'your']"
      ]
     },
     "execution_count": 417,
     "metadata": {},
     "output_type": "execute_result"
    }
   ],
   "source": [
    "Theon=speech[100:105]\n",
    "Theon_file=character(Theon)\n",
    "Theon_file"
   ]
  },
  {
   "cell_type": "code",
   "execution_count": 387,
   "metadata": {},
   "outputs": [],
   "source": [
    "with open(\"Theon'C15.txt\",'w') as file:\n",
    "    for line in Theon_file:\n",
    "        file.write(line)\n",
    "        file.write('\\n')"
   ]
  },
  {
   "cell_type": "markdown",
   "metadata": {},
   "source": [
    "# Unique word spoken by WAYMAR ROYCE"
   ]
  },
  {
   "cell_type": "code",
   "execution_count": 418,
   "metadata": {},
   "outputs": [
    {
     "data": {
      "text/plain": [
       "['close', 'did', 'get', 'how', 'royce', 'waymar', 'you']"
      ]
     },
     "execution_count": 418,
     "metadata": {},
     "output_type": "execute_result"
    }
   ],
   "source": [
    "Waymar=speech[105:106]\n",
    "Waymar_file=character(Waymar)\n",
    "Waymar_file"
   ]
  },
  {
   "cell_type": "code",
   "execution_count": 391,
   "metadata": {},
   "outputs": [],
   "source": [
    "with open(\"waymar'C16.txt\",'w') as file:\n",
    "    for line in Waymar_file:\n",
    "        file.write(line)\n",
    "        file.write('\\n')"
   ]
  },
  {
   "cell_type": "markdown",
   "metadata": {},
   "source": [
    "# Unique word spoken by WILL"
   ]
  },
  {
   "cell_type": "code",
   "execution_count": 419,
   "metadata": {},
   "outputs": [
    {
     "data": {
      "text/plain": [
       "['a',\n",
       " 'any',\n",
       " 'as',\n",
       " 'children',\n",
       " 'close',\n",
       " 'could',\n",
       " 'did',\n",
       " 'do',\n",
       " 'even',\n",
       " 'ever',\n",
       " 'here',\n",
       " 'in',\n",
       " 'it',\n",
       " 'iâ€™ve',\n",
       " 'killed',\n",
       " 'life',\n",
       " 'like',\n",
       " 'man',\n",
       " 'my',\n",
       " 'never',\n",
       " 'not',\n",
       " 'seen',\n",
       " 'the',\n",
       " 'them',\n",
       " 'they',\n",
       " 'thing',\n",
       " 'this',\n",
       " 'to',\n",
       " 'us',\n",
       " 'were',\n",
       " 'whatever',\n",
       " 'wildlings',\n",
       " 'will',\n",
       " 'would']"
      ]
     },
     "execution_count": 419,
     "metadata": {},
     "output_type": "execute_result"
    }
   ],
   "source": [
    "Will=speech[106:111]\n",
    "Will_file=character(Will)\n",
    "Will_file"
   ]
  },
  {
   "cell_type": "code",
   "execution_count": 395,
   "metadata": {},
   "outputs": [],
   "source": [
    "with open(\"Will'C17.txt\",'w') as file:\n",
    "    for line in Will_file:\n",
    "        file.write(line)\n",
    "        file.write('\\n')"
   ]
  },
  {
   "cell_type": "code",
   "execution_count": null,
   "metadata": {},
   "outputs": [],
   "source": []
  }
 ],
 "metadata": {
  "kernelspec": {
   "display_name": "Python 3",
   "language": "python",
   "name": "python3"
  },
  "language_info": {
   "codemirror_mode": {
    "name": "ipython",
    "version": 3
   },
   "file_extension": ".py",
   "mimetype": "text/x-python",
   "name": "python",
   "nbconvert_exporter": "python",
   "pygments_lexer": "ipython3",
   "version": "3.8.3"
  }
 },
 "nbformat": 4,
 "nbformat_minor": 4
}
